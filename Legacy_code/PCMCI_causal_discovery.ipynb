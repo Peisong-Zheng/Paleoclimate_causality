{
 "cells": [
  {
   "cell_type": "code",
   "execution_count": 3,
   "metadata": {},
   "outputs": [
    {
     "name": "stdout",
     "output_type": "stream",
     "text": [
      "Requirement already satisfied: tigramite in c:\\users\\zps19\\.conda\\envs\\pz-env\\lib\\site-packages (5.2.0.2)\n",
      "Requirement already satisfied: numpy<1.24,>=1.18 in c:\\users\\zps19\\.conda\\envs\\pz-env\\lib\\site-packages (from tigramite) (1.23.5)\n",
      "Requirement already satisfied: numba==0.56.4 in c:\\users\\zps19\\.conda\\envs\\pz-env\\lib\\site-packages (from tigramite) (0.56.4)\n",
      "Requirement already satisfied: scipy>=1.10.0 in c:\\users\\zps19\\.conda\\envs\\pz-env\\lib\\site-packages (from tigramite) (1.10.1)\n",
      "Requirement already satisfied: six in c:\\users\\zps19\\appdata\\roaming\\python\\python310\\site-packages (from tigramite) (1.16.0)\n",
      "Requirement already satisfied: llvmlite<0.40,>=0.39.0dev0 in c:\\users\\zps19\\.conda\\envs\\pz-env\\lib\\site-packages (from numba==0.56.4->tigramite) (0.39.1)\n",
      "Requirement already satisfied: setuptools in c:\\users\\zps19\\.conda\\envs\\pz-env\\lib\\site-packages (from numba==0.56.4->tigramite) (65.5.0)\n"
     ]
    },
    {
     "name": "stderr",
     "output_type": "stream",
     "text": [
      "WARNING: Ignoring invalid distribution -atplotlib (c:\\users\\zps19\\.conda\\envs\\pz-env\\lib\\site-packages)\n",
      "WARNING: Ignoring invalid distribution -atplotlib (c:\\users\\zps19\\.conda\\envs\\pz-env\\lib\\site-packages)\n",
      "WARNING: Ignoring invalid distribution -atplotlib (c:\\users\\zps19\\.conda\\envs\\pz-env\\lib\\site-packages)\n",
      "WARNING: Ignoring invalid distribution -atplotlib (c:\\users\\zps19\\.conda\\envs\\pz-env\\lib\\site-packages)\n",
      "WARNING: Ignoring invalid distribution -atplotlib (c:\\users\\zps19\\.conda\\envs\\pz-env\\lib\\site-packages)\n",
      "WARNING: Ignoring invalid distribution -atplotlib (c:\\users\\zps19\\.conda\\envs\\pz-env\\lib\\site-packages)\n"
     ]
    }
   ],
   "source": [
    "!pip install tigramite"
   ]
  },
  {
   "cell_type": "code",
   "execution_count": 8,
   "metadata": {},
   "outputs": [],
   "source": [
    "import numpy as np\n",
    "import matplotlib\n",
    "from matplotlib import pyplot as plt\n",
    "%matplotlib inline     \n",
    "## use `%matplotlib notebook` for interactive figures\n",
    "# plt.style.use('ggplot')\n",
    "import sklearn\n",
    "\n",
    "import tigramite\n",
    "from tigramite import data_processing as pp\n",
    "from tigramite import plotting as tp\n",
    "from tigramite.pcmci import PCMCI\n",
    "# from tigramite.independence_tests import GPDC, CMIknn, CMIsymb\n",
    "from tigramite.models import LinearMediation, Prediction"
   ]
  },
  {
   "cell_type": "code",
   "execution_count": 9,
   "metadata": {},
   "outputs": [
    {
     "name": "stdout",
     "output_type": "stream",
     "text": [
      "Collecting cdt\n",
      "  Downloading cdt-0.6.0-py3-none-any.whl (921 kB)\n",
      "     -------------------------------------- 921.1/921.1 kB 1.9 MB/s eta 0:00:00\n",
      "Requirement already satisfied: joblib in c:\\users\\zps19\\.conda\\envs\\pz-env\\lib\\site-packages (from cdt) (1.2.0)\n",
      "Requirement already satisfied: requests in c:\\users\\zps19\\.conda\\envs\\pz-env\\lib\\site-packages (from cdt) (2.28.1)\n",
      "Requirement already satisfied: scikit-learn in c:\\users\\zps19\\.conda\\envs\\pz-env\\lib\\site-packages (from cdt) (1.2.2)\n",
      "Requirement already satisfied: tqdm in c:\\users\\zps19\\.conda\\envs\\pz-env\\lib\\site-packages (from cdt) (4.64.1)\n",
      "Requirement already satisfied: statsmodels in c:\\users\\zps19\\.conda\\envs\\pz-env\\lib\\site-packages (from cdt) (0.13.5)\n",
      "Requirement already satisfied: numpy in c:\\users\\zps19\\.conda\\envs\\pz-env\\lib\\site-packages (from cdt) (1.23.5)\n",
      "Requirement already satisfied: pandas in c:\\users\\zps19\\.conda\\envs\\pz-env\\lib\\site-packages (from cdt) (1.5.3)\n",
      "Requirement already satisfied: networkx in c:\\users\\zps19\\.conda\\envs\\pz-env\\lib\\site-packages (from cdt) (3.1)\n",
      "Collecting GPUtil\n",
      "  Downloading GPUtil-1.4.0.tar.gz (5.5 kB)\n",
      "  Preparing metadata (setup.py): started\n",
      "  Preparing metadata (setup.py): finished with status 'done'\n",
      "Collecting skrebate\n",
      "  Downloading skrebate-0.62.tar.gz (19 kB)\n",
      "  Preparing metadata (setup.py): started\n",
      "  Preparing metadata (setup.py): finished with status 'done'\n",
      "Requirement already satisfied: scipy in c:\\users\\zps19\\.conda\\envs\\pz-env\\lib\\site-packages (from cdt) (1.10.1)\n",
      "Requirement already satisfied: python-dateutil>=2.8.1 in c:\\users\\zps19\\appdata\\roaming\\python\\python310\\site-packages (from pandas->cdt) (2.8.2)\n",
      "Requirement already satisfied: pytz>=2020.1 in c:\\users\\zps19\\.conda\\envs\\pz-env\\lib\\site-packages (from pandas->cdt) (2022.6)\n",
      "Requirement already satisfied: idna<4,>=2.5 in c:\\users\\zps19\\.conda\\envs\\pz-env\\lib\\site-packages (from requests->cdt) (3.4)\n",
      "Requirement already satisfied: urllib3<1.27,>=1.21.1 in c:\\users\\zps19\\.conda\\envs\\pz-env\\lib\\site-packages (from requests->cdt) (1.26.13)\n",
      "Requirement already satisfied: charset-normalizer<3,>=2 in c:\\users\\zps19\\.conda\\envs\\pz-env\\lib\\site-packages (from requests->cdt) (2.0.4)\n",
      "Requirement already satisfied: certifi>=2017.4.17 in c:\\users\\zps19\\.conda\\envs\\pz-env\\lib\\site-packages (from requests->cdt) (2022.12.7)\n",
      "Requirement already satisfied: threadpoolctl>=2.0.0 in c:\\users\\zps19\\.conda\\envs\\pz-env\\lib\\site-packages (from scikit-learn->cdt) (3.1.0)\n",
      "Requirement already satisfied: packaging>=21.3 in c:\\users\\zps19\\appdata\\roaming\\python\\python310\\site-packages (from statsmodels->cdt) (23.1)\n",
      "Requirement already satisfied: patsy>=0.5.2 in c:\\users\\zps19\\.conda\\envs\\pz-env\\lib\\site-packages (from statsmodels->cdt) (0.5.3)\n",
      "Requirement already satisfied: colorama in c:\\users\\zps19\\appdata\\roaming\\python\\python310\\site-packages (from tqdm->cdt) (0.4.6)\n",
      "Requirement already satisfied: six in c:\\users\\zps19\\appdata\\roaming\\python\\python310\\site-packages (from patsy>=0.5.2->statsmodels->cdt) (1.16.0)\n",
      "Building wheels for collected packages: GPUtil, skrebate\n",
      "  Building wheel for GPUtil (setup.py): started\n",
      "  Building wheel for GPUtil (setup.py): finished with status 'done'\n",
      "  Created wheel for GPUtil: filename=GPUtil-1.4.0-py3-none-any.whl size=7394 sha256=5be1338c1f0d5d9365d76006e7ebcee7cde67576798c38d12478e5f6f5e4b847\n",
      "  Stored in directory: c:\\users\\zps19\\appdata\\local\\pip\\cache\\wheels\\a9\\8a\\bd\\81082387151853ab8b6b3ef33426e98f5cbfebc3c397a9d4d0\n",
      "  Building wheel for skrebate (setup.py): started\n",
      "  Building wheel for skrebate (setup.py): finished with status 'done'\n",
      "  Created wheel for skrebate: filename=skrebate-0.62-py3-none-any.whl size=29255 sha256=93ea6fdf9b335db2c6885ed53988562b0886f441375d8728c8271a72dbd040c5\n",
      "  Stored in directory: c:\\users\\zps19\\appdata\\local\\pip\\cache\\wheels\\dd\\67\\40\\683074a684607162bd0e34dcf7ccdfcab5861c3b2a83286f3a\n",
      "Successfully built GPUtil skrebate\n",
      "Installing collected packages: GPUtil, skrebate, cdt\n",
      "Successfully installed GPUtil-1.4.0 cdt-0.6.0 skrebate-0.62\n"
     ]
    },
    {
     "name": "stderr",
     "output_type": "stream",
     "text": [
      "WARNING: Ignoring invalid distribution -atplotlib (c:\\users\\zps19\\.conda\\envs\\pz-env\\lib\\site-packages)\n",
      "WARNING: Ignoring invalid distribution -atplotlib (c:\\users\\zps19\\.conda\\envs\\pz-env\\lib\\site-packages)\n",
      "WARNING: Ignoring invalid distribution -atplotlib (c:\\users\\zps19\\.conda\\envs\\pz-env\\lib\\site-packages)\n",
      "WARNING: Ignoring invalid distribution -atplotlib (c:\\users\\zps19\\.conda\\envs\\pz-env\\lib\\site-packages)\n",
      "WARNING: Ignoring invalid distribution -atplotlib (c:\\users\\zps19\\.conda\\envs\\pz-env\\lib\\site-packages)\n",
      "WARNING: Ignoring invalid distribution -atplotlib (c:\\users\\zps19\\.conda\\envs\\pz-env\\lib\\site-packages)\n",
      "WARNING: Ignoring invalid distribution -atplotlib (c:\\users\\zps19\\.conda\\envs\\pz-env\\lib\\site-packages)\n",
      "WARNING: Ignoring invalid distribution -atplotlib (c:\\users\\zps19\\.conda\\envs\\pz-env\\lib\\site-packages)\n",
      "WARNING: Ignoring invalid distribution -atplotlib (c:\\users\\zps19\\.conda\\envs\\pz-env\\lib\\site-packages)\n"
     ]
    }
   ],
   "source": [
    "!pip install cdt"
   ]
  },
  {
   "cell_type": "code",
   "execution_count": 10,
   "metadata": {},
   "outputs": [
    {
     "name": "stderr",
     "output_type": "stream",
     "text": [
      "c:\\Users\\zps19\\.conda\\envs\\pz-env\\lib\\site-packages\\tqdm\\auto.py:22: TqdmWarning: IProgress not found. Please update jupyter and ipywidgets. See https://ipywidgets.readthedocs.io/en/stable/user_install.html\n",
      "  from .autonotebook import tqdm as notebook_tqdm\n",
      "No GPU automatically detected. Setting SETTINGS.GPU to 0, and SETTINGS.NJOBS to cpu_count.\n"
     ]
    }
   ],
   "source": [
    "import cdt"
   ]
  },
  {
   "cell_type": "code",
   "execution_count": null,
   "metadata": {},
   "outputs": [],
   "source": []
  }
 ],
 "metadata": {
  "kernelspec": {
   "display_name": "pz-env",
   "language": "python",
   "name": "python3"
  },
  "language_info": {
   "codemirror_mode": {
    "name": "ipython",
    "version": 3
   },
   "file_extension": ".py",
   "mimetype": "text/x-python",
   "name": "python",
   "nbconvert_exporter": "python",
   "pygments_lexer": "ipython3",
   "version": "3.10.8"
  },
  "orig_nbformat": 4
 },
 "nbformat": 4,
 "nbformat_minor": 2
}
