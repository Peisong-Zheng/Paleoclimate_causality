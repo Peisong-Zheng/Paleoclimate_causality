{
 "cells": [
  {
   "cell_type": "markdown",
   "metadata": {},
   "source": [
    "# Using pgmpy"
   ]
  },
  {
   "cell_type": "code",
   "execution_count": 1,
   "metadata": {},
   "outputs": [
    {
     "name": "stderr",
     "output_type": "stream",
     "text": [
      "c:\\Users\\zps19\\.conda\\envs\\pz_venv_causal\\lib\\site-packages\\tqdm\\auto.py:21: TqdmWarning: IProgress not found. Please update jupyter and ipywidgets. See https://ipywidgets.readthedocs.io/en/stable/user_install.html\n",
      "  from .autonotebook import tqdm as notebook_tqdm\n"
     ]
    },
    {
     "ename": "ImportError",
     "evalue": "cannot import name 'FCI' from 'pgmpy.estimators' (c:\\Users\\zps19\\.conda\\envs\\pz_venv_causal\\lib\\site-packages\\pgmpy\\estimators\\__init__.py)",
     "output_type": "error",
     "traceback": [
      "\u001b[1;31m---------------------------------------------------------------------------\u001b[0m",
      "\u001b[1;31mImportError\u001b[0m                               Traceback (most recent call last)",
      "\u001b[1;32md:\\VScode\\Paleoclimate_causality\\FCI_test.ipynb Cell 1\u001b[0m line \u001b[0;36m1\n\u001b[1;32m----> <a href='vscode-notebook-cell:/d%3A/VScode/Paleoclimate_causality/FCI_test.ipynb#W0sZmlsZQ%3D%3D?line=0'>1</a>\u001b[0m \u001b[39mfrom\u001b[39;00m \u001b[39mpgmpy\u001b[39;00m\u001b[39m.\u001b[39;00m\u001b[39mestimators\u001b[39;00m \u001b[39mimport\u001b[39;00m FCI\n\u001b[0;32m      <a href='vscode-notebook-cell:/d%3A/VScode/Paleoclimate_causality/FCI_test.ipynb#W0sZmlsZQ%3D%3D?line=1'>2</a>\u001b[0m \u001b[39mfrom\u001b[39;00m \u001b[39mpgmpy\u001b[39;00m\u001b[39m.\u001b[39;00m\u001b[39mindependencies\u001b[39;00m \u001b[39mimport\u001b[39;00m Independencies\n\u001b[0;32m      <a href='vscode-notebook-cell:/d%3A/VScode/Paleoclimate_causality/FCI_test.ipynb#W0sZmlsZQ%3D%3D?line=2'>3</a>\u001b[0m \u001b[39mimport\u001b[39;00m \u001b[39mpandas\u001b[39;00m \u001b[39mas\u001b[39;00m \u001b[39mpd\u001b[39;00m\n",
      "\u001b[1;31mImportError\u001b[0m: cannot import name 'FCI' from 'pgmpy.estimators' (c:\\Users\\zps19\\.conda\\envs\\pz_venv_causal\\lib\\site-packages\\pgmpy\\estimators\\__init__.py)"
     ]
    }
   ],
   "source": [
    "\n",
    "from pgmpy.estimators import FCI\n",
    "from pgmpy.independencies import Independencies\n",
    "import pandas as pd\n",
    "import numpy as np\n",
    "import networkx as nx\n",
    "import matplotlib.pyplot as plt\n",
    "\n",
    "# Generate synthetic data\n",
    "np.random.seed(42)\n",
    "size = 100\n",
    "X = np.random.normal(0, 1, size)\n",
    "Y = X + np.random.normal(0, 1, size)\n",
    "Z = Y + np.random.normal(0, 1, size)\n",
    "data = pd.DataFrame({'X': X, 'Y': Y, 'Z': Z})\n",
    "\n",
    "# Apply the FCI algorithm\n",
    "fci = FCI(data)\n",
    "skeleton, separating_sets = fci.build_skeleton()\n",
    "pdag = fci.skeleton_to_pdag(skeleton, separating_sets)\n",
    "dag = pdag.to_dag()\n",
    "\n",
    "# Draw the causal graph\n",
    "nx.draw_circular(dag, with_labels=True, arrowsize=20, node_size=2000,\n",
    "                 node_color='lightblue', font_weight='bold', font_size=14)\n",
    "plt.title('Causal Graph from FCI')\n",
    "plt.show()\n"
   ]
  },
  {
   "cell_type": "markdown",
   "metadata": {},
   "source": [
    "# Using causal-learn"
   ]
  },
  {
   "cell_type": "code",
   "execution_count": 6,
   "metadata": {},
   "outputs": [
    {
     "ename": "ImportError",
     "evalue": "cannot import name 'CITest' from 'causallearn.utils.cit' (c:\\Users\\zps19\\.conda\\envs\\pz_venv_causal\\lib\\site-packages\\causallearn\\utils\\cit.py)",
     "output_type": "error",
     "traceback": [
      "\u001b[1;31m---------------------------------------------------------------------------\u001b[0m",
      "\u001b[1;31mImportError\u001b[0m                               Traceback (most recent call last)",
      "\u001b[1;32md:\\VScode\\Paleoclimate_causality\\FCI_test.ipynb Cell 4\u001b[0m line \u001b[0;36m2\n\u001b[0;32m      <a href='vscode-notebook-cell:/d%3A/VScode/Paleoclimate_causality/FCI_test.ipynb#W5sZmlsZQ%3D%3D?line=0'>1</a>\u001b[0m \u001b[39mfrom\u001b[39;00m \u001b[39mcausallearn\u001b[39;00m\u001b[39m.\u001b[39;00m\u001b[39msearch\u001b[39;00m\u001b[39m.\u001b[39;00m\u001b[39mConstraintBased\u001b[39;00m\u001b[39m.\u001b[39;00m\u001b[39mFCI\u001b[39;00m \u001b[39mimport\u001b[39;00m fci\n\u001b[1;32m----> <a href='vscode-notebook-cell:/d%3A/VScode/Paleoclimate_causality/FCI_test.ipynb#W5sZmlsZQ%3D%3D?line=1'>2</a>\u001b[0m \u001b[39mfrom\u001b[39;00m \u001b[39mcausallearn\u001b[39;00m\u001b[39m.\u001b[39;00m\u001b[39mutils\u001b[39;00m\u001b[39m.\u001b[39;00m\u001b[39mcit\u001b[39;00m \u001b[39mimport\u001b[39;00m CITest\n\u001b[0;32m      <a href='vscode-notebook-cell:/d%3A/VScode/Paleoclimate_causality/FCI_test.ipynb#W5sZmlsZQ%3D%3D?line=2'>3</a>\u001b[0m \u001b[39mimport\u001b[39;00m \u001b[39mpandas\u001b[39;00m \u001b[39mas\u001b[39;00m \u001b[39mpd\u001b[39;00m\n\u001b[0;32m      <a href='vscode-notebook-cell:/d%3A/VScode/Paleoclimate_causality/FCI_test.ipynb#W5sZmlsZQ%3D%3D?line=3'>4</a>\u001b[0m \u001b[39mimport\u001b[39;00m \u001b[39mnumpy\u001b[39;00m \u001b[39mas\u001b[39;00m \u001b[39mnp\u001b[39;00m\n",
      "\u001b[1;31mImportError\u001b[0m: cannot import name 'CITest' from 'causallearn.utils.cit' (c:\\Users\\zps19\\.conda\\envs\\pz_venv_causal\\lib\\site-packages\\causallearn\\utils\\cit.py)"
     ]
    }
   ],
   "source": [
    "from causallearn.search.ConstraintBased.FCI import fci\n",
    "from causallearn.utils.cit import CITest\n",
    "import pandas as pd\n",
    "import numpy as np\n",
    "import networkx as nx\n",
    "import matplotlib.pyplot as plt\n",
    "\n",
    "# Generate synthetic data\n",
    "np.random.seed(42)\n",
    "size = 100\n",
    "X = np.random.normal(0, 1, size)\n",
    "Y = X + np.random.normal(0, 1, size)\n",
    "Z = Y + np.random.normal(0, 1, size)\n",
    "data = pd.DataFrame({'X': X, 'Y': Y, 'Z': Z})\n",
    "\n",
    "# Convert the DataFrame to a NumPy array\n",
    "data_array = data.to_numpy()\n",
    "\n",
    "# Apply FCI algorithm\n",
    "# You may need to specify the exact independence test method and its parameters.\n",
    "# Here, we use the default settings.\n",
    "result = fci(data_array)\n",
    "\n",
    "# Assuming that the output is a tuple with an adjacency matrix as the first element.\n",
    "adjacency_matrix = result[0]\n",
    "\n",
    "# Create a networkx graph from the adjacency matrix\n",
    "G = nx.from_numpy_matrix(adjacency_matrix, create_using=nx.DiGraph)\n",
    "\n",
    "# Draw the graph\n",
    "pos = nx.circular_layout(G)  # positions for all nodes\n",
    "nx.draw(G, pos, with_labels=True, node_size=700, node_color=\"skyblue\", font_size=14)\n",
    "plt.title(\"Causal Graph from FCI\")\n",
    "plt.show()\n"
   ]
  },
  {
   "cell_type": "markdown",
   "metadata": {},
   "source": [
    "# Causalpy"
   ]
  },
  {
   "cell_type": "code",
   "execution_count": 7,
   "metadata": {},
   "outputs": [
    {
     "name": "stderr",
     "output_type": "stream",
     "text": [
      "WARNING:pytensor.configdefaults:g++ not available, if using conda: `conda install m2w64-toolchain`\n",
      "WARNING:pytensor.configdefaults:g++ not detected!  PyTensor will be unable to compile C-implementations and will default to Python. Performance may be severely degraded. To remove this warning, set PyTensor flags cxx to an empty string.\n",
      "WARNING:pytensor.tensor.blas:Using NumPy C-API based implementation for BLAS functions.\n"
     ]
    },
    {
     "ename": "ImportError",
     "evalue": "cannot import name 'FCI' from 'causalpy' (c:\\Users\\zps19\\.conda\\envs\\pz_venv_causal\\lib\\site-packages\\causalpy\\__init__.py)",
     "output_type": "error",
     "traceback": [
      "\u001b[1;31m---------------------------------------------------------------------------\u001b[0m",
      "\u001b[1;31mImportError\u001b[0m                               Traceback (most recent call last)",
      "\u001b[1;32md:\\VScode\\Paleoclimate_causality\\FCI_test.ipynb Cell 6\u001b[0m line \u001b[0;36m3\n\u001b[0;32m      <a href='vscode-notebook-cell:/d%3A/VScode/Paleoclimate_causality/FCI_test.ipynb#X10sZmlsZQ%3D%3D?line=0'>1</a>\u001b[0m \u001b[39mimport\u001b[39;00m \u001b[39mnumpy\u001b[39;00m \u001b[39mas\u001b[39;00m \u001b[39mnp\u001b[39;00m\n\u001b[0;32m      <a href='vscode-notebook-cell:/d%3A/VScode/Paleoclimate_causality/FCI_test.ipynb#X10sZmlsZQ%3D%3D?line=1'>2</a>\u001b[0m \u001b[39mimport\u001b[39;00m \u001b[39mpandas\u001b[39;00m \u001b[39mas\u001b[39;00m \u001b[39mpd\u001b[39;00m\n\u001b[1;32m----> <a href='vscode-notebook-cell:/d%3A/VScode/Paleoclimate_causality/FCI_test.ipynb#X10sZmlsZQ%3D%3D?line=2'>3</a>\u001b[0m \u001b[39mfrom\u001b[39;00m \u001b[39mcausalpy\u001b[39;00m \u001b[39mimport\u001b[39;00m FCI\n\u001b[0;32m      <a href='vscode-notebook-cell:/d%3A/VScode/Paleoclimate_causality/FCI_test.ipynb#X10sZmlsZQ%3D%3D?line=3'>4</a>\u001b[0m \u001b[39mimport\u001b[39;00m \u001b[39mnetworkx\u001b[39;00m \u001b[39mas\u001b[39;00m \u001b[39mnx\u001b[39;00m\n\u001b[0;32m      <a href='vscode-notebook-cell:/d%3A/VScode/Paleoclimate_causality/FCI_test.ipynb#X10sZmlsZQ%3D%3D?line=4'>5</a>\u001b[0m \u001b[39mimport\u001b[39;00m \u001b[39mmatplotlib\u001b[39;00m\u001b[39m.\u001b[39;00m\u001b[39mpyplot\u001b[39;00m \u001b[39mas\u001b[39;00m \u001b[39mplt\u001b[39;00m\n",
      "\u001b[1;31mImportError\u001b[0m: cannot import name 'FCI' from 'causalpy' (c:\\Users\\zps19\\.conda\\envs\\pz_venv_causal\\lib\\site-packages\\causalpy\\__init__.py)"
     ]
    }
   ],
   "source": [
    "import numpy as np\n",
    "import pandas as pd\n",
    "from causalpy import FCI\n",
    "import networkx as nx\n",
    "import matplotlib.pyplot as plt\n",
    "\n",
    "# Generate synthetic data\n",
    "np.random.seed(42)\n",
    "size = 100\n",
    "X = np.random.normal(0, 1, size)\n",
    "Y = X + np.random.normal(0, 1, size)\n",
    "Z = Y + np.random.normal(0, 1, size)\n",
    "data = pd.DataFrame({'X': X, 'Y': Y, 'Z': Z})\n",
    "\n",
    "# Initialize the FCI object\n",
    "fci = FCI()\n",
    "\n",
    "# Fit the model to the data\n",
    "graph = fci.orient_edges(data)\n",
    "\n",
    "# Visualize the graph using networkx\n",
    "G = nx.DiGraph()\n",
    "\n",
    "# Add nodes\n",
    "for node in graph.nodes:\n",
    "    G.add_node(node)\n",
    "\n",
    "# Add edges\n",
    "for edge in graph.edges:\n",
    "    if edge[2]['oriented'] == 'from':\n",
    "        G.add_edge(edge[0], edge[1])\n",
    "    elif edge[2]['oriented'] == 'to':\n",
    "        G.add_edge(edge[1], edge[0])\n",
    "    else:\n",
    "        # For an undirected edge, you can choose how to display it, here we add it in both directions\n",
    "        G.add_edge(edge[0], edge[1])\n",
    "        G.add_edge(edge[1], edge[0])\n",
    "\n",
    "# Draw the graph\n",
    "nx.draw(G, with_labels=True, node_size=700, node_color=\"skyblue\", font_size=14)\n",
    "plt.title(\"Causal Graph from FCI using causalpy\")\n",
    "plt.show()\n"
   ]
  },
  {
   "cell_type": "code",
   "execution_count": 10,
   "metadata": {},
   "outputs": [
    {
     "ename": "AssertionError",
     "evalue": "Input data must be a numpy array.",
     "output_type": "error",
     "traceback": [
      "\u001b[1;31m---------------------------------------------------------------------------\u001b[0m",
      "\u001b[1;31mAssertionError\u001b[0m                            Traceback (most recent call last)",
      "\u001b[1;32md:\\VScode\\Paleoclimate_causality\\FCI_test.ipynb Cell 7\u001b[0m line \u001b[0;36m4\n\u001b[0;32m      <a href='vscode-notebook-cell:/d%3A/VScode/Paleoclimate_causality/FCI_test.ipynb#X11sZmlsZQ%3D%3D?line=0'>1</a>\u001b[0m \u001b[39mfrom\u001b[39;00m \u001b[39mcausallearn\u001b[39;00m\u001b[39m.\u001b[39;00m\u001b[39msearch\u001b[39;00m\u001b[39m.\u001b[39;00m\u001b[39mConstraintBased\u001b[39;00m\u001b[39m.\u001b[39;00m\u001b[39mFCI\u001b[39;00m \u001b[39mimport\u001b[39;00m fci\n\u001b[0;32m      <a href='vscode-notebook-cell:/d%3A/VScode/Paleoclimate_causality/FCI_test.ipynb#X11sZmlsZQ%3D%3D?line=2'>3</a>\u001b[0m \u001b[39m# Run FCI with default parameters\u001b[39;00m\n\u001b[1;32m----> <a href='vscode-notebook-cell:/d%3A/VScode/Paleoclimate_causality/FCI_test.ipynb#X11sZmlsZQ%3D%3D?line=3'>4</a>\u001b[0m g, edges \u001b[39m=\u001b[39m fci(data)\n\u001b[0;32m      <a href='vscode-notebook-cell:/d%3A/VScode/Paleoclimate_causality/FCI_test.ipynb#X11sZmlsZQ%3D%3D?line=5'>6</a>\u001b[0m \u001b[39m# For customized parameters:\u001b[39;00m\n\u001b[0;32m      <a href='vscode-notebook-cell:/d%3A/VScode/Paleoclimate_causality/FCI_test.ipynb#X11sZmlsZQ%3D%3D?line=6'>7</a>\u001b[0m g, edges \u001b[39m=\u001b[39m fci(data, independence_test_method, alpha, depth, max_path_length,\n\u001b[0;32m      <a href='vscode-notebook-cell:/d%3A/VScode/Paleoclimate_causality/FCI_test.ipynb#X11sZmlsZQ%3D%3D?line=7'>8</a>\u001b[0m     verbose, background_knowledge, cache_variables_map)\n",
      "File \u001b[1;32mc:\\Users\\zps19\\.conda\\envs\\pz_venv_causal\\lib\\site-packages\\causallearn\\search\\ConstraintBased\\FCI.py:738\u001b[0m, in \u001b[0;36mfci\u001b[1;34m(dataset, independence_test_method, alpha, depth, max_path_length, verbose, background_knowledge, show_progress, **kwargs)\u001b[0m\n\u001b[0;32m    735\u001b[0m \u001b[39mif\u001b[39;00m dataset\u001b[39m.\u001b[39mshape[\u001b[39m0\u001b[39m] \u001b[39m<\u001b[39m dataset\u001b[39m.\u001b[39mshape[\u001b[39m1\u001b[39m]:\n\u001b[0;32m    736\u001b[0m     warnings\u001b[39m.\u001b[39mwarn(\u001b[39m\"\u001b[39m\u001b[39mThe number of features is much larger than the sample size!\u001b[39m\u001b[39m\"\u001b[39m)\n\u001b[1;32m--> 738\u001b[0m independence_test_method \u001b[39m=\u001b[39m CIT(dataset, method\u001b[39m=\u001b[39;49mindependence_test_method, \u001b[39m*\u001b[39;49m\u001b[39m*\u001b[39;49mkwargs)\n\u001b[0;32m    740\u001b[0m \u001b[39m## ------- check parameters ------------\u001b[39;00m\n\u001b[0;32m    741\u001b[0m \u001b[39mif\u001b[39;00m (depth \u001b[39mis\u001b[39;00m \u001b[39mNone\u001b[39;00m) \u001b[39mor\u001b[39;00m \u001b[39mtype\u001b[39m(depth) \u001b[39m!=\u001b[39m \u001b[39mint\u001b[39m:\n",
      "File \u001b[1;32mc:\\Users\\zps19\\.conda\\envs\\pz_venv_causal\\lib\\site-packages\\causallearn\\utils\\cit.py:32\u001b[0m, in \u001b[0;36mCIT\u001b[1;34m(data, method, **kwargs)\u001b[0m\n\u001b[0;32m     22\u001b[0m \u001b[39m\u001b[39m\u001b[39m'''\u001b[39;00m\n\u001b[0;32m     23\u001b[0m \u001b[39mParameters\u001b[39;00m\n\u001b[0;32m     24\u001b[0m \u001b[39m----------\u001b[39;00m\n\u001b[1;32m   (...)\u001b[0m\n\u001b[0;32m     29\u001b[0m \u001b[39m          check https://github.com/cmu-phil/causal-learn/pull/62#discussion_r927239028\u001b[39;00m\n\u001b[0;32m     30\u001b[0m \u001b[39m'''\u001b[39;00m\n\u001b[0;32m     31\u001b[0m \u001b[39mif\u001b[39;00m method \u001b[39m==\u001b[39m fisherz:\n\u001b[1;32m---> 32\u001b[0m     \u001b[39mreturn\u001b[39;00m FisherZ(data, \u001b[39m*\u001b[39;49m\u001b[39m*\u001b[39;49mkwargs)\n\u001b[0;32m     33\u001b[0m \u001b[39melif\u001b[39;00m method \u001b[39m==\u001b[39m kci:\n\u001b[0;32m     34\u001b[0m     \u001b[39mreturn\u001b[39;00m KCI(data, \u001b[39m*\u001b[39m\u001b[39m*\u001b[39mkwargs)\n",
      "File \u001b[1;32mc:\\Users\\zps19\\.conda\\envs\\pz_venv_causal\\lib\\site-packages\\causallearn\\utils\\cit.py:140\u001b[0m, in \u001b[0;36mFisherZ.__init__\u001b[1;34m(self, data, **kwargs)\u001b[0m\n\u001b[0;32m    139\u001b[0m \u001b[39mdef\u001b[39;00m \u001b[39m__init__\u001b[39m(\u001b[39mself\u001b[39m, data, \u001b[39m*\u001b[39m\u001b[39m*\u001b[39mkwargs):\n\u001b[1;32m--> 140\u001b[0m     \u001b[39msuper\u001b[39;49m()\u001b[39m.\u001b[39;49m\u001b[39m__init__\u001b[39;49m(data, \u001b[39m*\u001b[39;49m\u001b[39m*\u001b[39;49mkwargs)\n\u001b[0;32m    141\u001b[0m     \u001b[39mself\u001b[39m\u001b[39m.\u001b[39mcheck_cache_method_consistent(\u001b[39m'\u001b[39m\u001b[39mfisherz\u001b[39m\u001b[39m'\u001b[39m, NO_SPECIFIED_PARAMETERS_MSG)\n\u001b[0;32m    142\u001b[0m     \u001b[39mself\u001b[39m\u001b[39m.\u001b[39massert_input_data_is_valid()\n",
      "File \u001b[1;32mc:\\Users\\zps19\\.conda\\envs\\pz_venv_causal\\lib\\site-packages\\causallearn\\utils\\cit.py:56\u001b[0m, in \u001b[0;36mCIT_Base.__init__\u001b[1;34m(self, data, cache_path, **kwargs)\u001b[0m\n\u001b[0;32m     48\u001b[0m \u001b[39mdef\u001b[39;00m \u001b[39m__init__\u001b[39m(\u001b[39mself\u001b[39m, data, cache_path\u001b[39m=\u001b[39m\u001b[39mNone\u001b[39;00m, \u001b[39m*\u001b[39m\u001b[39m*\u001b[39mkwargs):\n\u001b[0;32m     49\u001b[0m \u001b[39m    \u001b[39m\u001b[39m'''\u001b[39;00m\n\u001b[0;32m     50\u001b[0m \u001b[39m    Parameters\u001b[39;00m\n\u001b[0;32m     51\u001b[0m \u001b[39m    ----------\u001b[39;00m\n\u001b[1;32m   (...)\u001b[0m\n\u001b[0;32m     54\u001b[0m \u001b[39m    kwargs: for future extension.\u001b[39;00m\n\u001b[0;32m     55\u001b[0m \u001b[39m    '''\u001b[39;00m\n\u001b[1;32m---> 56\u001b[0m     \u001b[39massert\u001b[39;00m \u001b[39misinstance\u001b[39m(data, np\u001b[39m.\u001b[39mndarray), \u001b[39m\"\u001b[39m\u001b[39mInput data must be a numpy array.\u001b[39m\u001b[39m\"\u001b[39m\n\u001b[0;32m     57\u001b[0m     \u001b[39mself\u001b[39m\u001b[39m.\u001b[39mdata \u001b[39m=\u001b[39m data\n\u001b[0;32m     58\u001b[0m     \u001b[39mself\u001b[39m\u001b[39m.\u001b[39mdata_hash \u001b[39m=\u001b[39m hashlib\u001b[39m.\u001b[39mmd5(\u001b[39mstr\u001b[39m(data)\u001b[39m.\u001b[39mencode(\u001b[39m'\u001b[39m\u001b[39mutf-8\u001b[39m\u001b[39m'\u001b[39m))\u001b[39m.\u001b[39mhexdigest()\n",
      "\u001b[1;31mAssertionError\u001b[0m: Input data must be a numpy array."
     ]
    }
   ],
   "source": [
    "from causallearn.search.ConstraintBased.FCI import fci\n",
    "\n",
    "# Run FCI with default parameters\n",
    "g, edges = fci(data)\n",
    "\n",
    "# For customized parameters:\n",
    "g, edges = fci(data, independence_test_method, alpha, depth, max_path_length,\n",
    "    verbose, background_knowledge, cache_variables_map)\n"
   ]
  },
  {
   "cell_type": "code",
   "execution_count": 1,
   "metadata": {},
   "outputs": [
    {
     "data": {
      "text/html": [
       "<div>\n",
       "<style scoped>\n",
       "    .dataframe tbody tr th:only-of-type {\n",
       "        vertical-align: middle;\n",
       "    }\n",
       "\n",
       "    .dataframe tbody tr th {\n",
       "        vertical-align: top;\n",
       "    }\n",
       "\n",
       "    .dataframe thead th {\n",
       "        text-align: right;\n",
       "    }\n",
       "</style>\n",
       "<table border=\"1\" class=\"dataframe\">\n",
       "  <thead>\n",
       "    <tr style=\"text-align: right;\">\n",
       "      <th></th>\n",
       "      <th>X0</th>\n",
       "      <th>X1</th>\n",
       "      <th>X2</th>\n",
       "      <th>y</th>\n",
       "    </tr>\n",
       "  </thead>\n",
       "  <tbody>\n",
       "    <tr>\n",
       "      <th>0</th>\n",
       "      <td>0.156507</td>\n",
       "      <td>0.310434</td>\n",
       "      <td>0.016310</td>\n",
       "      <td>21.485602</td>\n",
       "    </tr>\n",
       "    <tr>\n",
       "      <th>1</th>\n",
       "      <td>-1.374951</td>\n",
       "      <td>-1.331094</td>\n",
       "      <td>0.058491</td>\n",
       "      <td>-93.288773</td>\n",
       "    </tr>\n",
       "    <tr>\n",
       "      <th>2</th>\n",
       "      <td>0.994394</td>\n",
       "      <td>1.816334</td>\n",
       "      <td>1.440554</td>\n",
       "      <td>202.590231</td>\n",
       "    </tr>\n",
       "    <tr>\n",
       "      <th>3</th>\n",
       "      <td>0.936742</td>\n",
       "      <td>1.880699</td>\n",
       "      <td>-1.169743</td>\n",
       "      <td>58.843337</td>\n",
       "    </tr>\n",
       "    <tr>\n",
       "      <th>4</th>\n",
       "      <td>0.031831</td>\n",
       "      <td>-0.619931</td>\n",
       "      <td>-0.683882</td>\n",
       "      <td>-75.404169</td>\n",
       "    </tr>\n",
       "  </tbody>\n",
       "</table>\n",
       "</div>"
      ],
      "text/plain": [
       "         X0        X1        X2           y\n",
       "0  0.156507  0.310434  0.016310   21.485602\n",
       "1 -1.374951 -1.331094  0.058491  -93.288773\n",
       "2  0.994394  1.816334  1.440554  202.590231\n",
       "3  0.936742  1.880699 -1.169743   58.843337\n",
       "4  0.031831 -0.619931 -0.683882  -75.404169"
      ]
     },
     "execution_count": 1,
     "metadata": {},
     "output_type": "execute_result"
    }
   ],
   "source": [
    "import numpy as np\n",
    "import pandas as pd\n",
    "from sklearn.datasets import make_regression\n",
    "\n",
    "# Generate synthetic data\n",
    "np.random.seed(0)\n",
    "X, y = make_regression(n_samples=200, n_features=3, noise=0.2)\n",
    "noise = np.random.normal(0, 0.1, size=y.shape)\n",
    "\n",
    "# Adding some causal relationships\n",
    "# X0 causes X1 and X2\n",
    "# X1 causes y\n",
    "# X2 causes y\n",
    "X[:, 1] += 0.5 * X[:, 0]\n",
    "X[:, 2] += -0.3 * X[:, 0]\n",
    "y += 0.8 * X[:, 1] - 0.5 * X[:, 2] + noise\n",
    "\n",
    "# Create a DataFrame\n",
    "data = pd.DataFrame(X, columns=['X0', 'X1', 'X2'])\n",
    "data['y'] = y\n",
    "\n",
    "# Output the first few rows of our dataset\n",
    "data.head()\n"
   ]
  },
  {
   "cell_type": "code",
   "execution_count": 5,
   "metadata": {},
   "outputs": [
    {
     "name": "stderr",
     "output_type": "stream",
     "text": [
      "Depth=0, working on node 3: 100%|██████████| 4/4 [00:00<00:00, 333.71it/s]"
     ]
    },
    {
     "name": "stderr",
     "output_type": "stream",
     "text": [
      "\n"
     ]
    },
    {
     "ename": "FileNotFoundError",
     "evalue": "[WinError 2] \"dot\" not found in path.",
     "output_type": "error",
     "traceback": [
      "\u001b[1;31m---------------------------------------------------------------------------\u001b[0m",
      "\u001b[1;31mFileNotFoundError\u001b[0m                         Traceback (most recent call last)",
      "File \u001b[1;32mc:\\Users\\zps19\\.conda\\envs\\pz_venv_causal\\lib\\site-packages\\pydot.py:1923\u001b[0m, in \u001b[0;36mDot.create\u001b[1;34m(self, prog, format, encoding)\u001b[0m\n\u001b[0;32m   1922\u001b[0m \u001b[39mtry\u001b[39;00m:\n\u001b[1;32m-> 1923\u001b[0m     stdout_data, stderr_data, process \u001b[39m=\u001b[39m call_graphviz(\n\u001b[0;32m   1924\u001b[0m         program\u001b[39m=\u001b[39;49mprog,\n\u001b[0;32m   1925\u001b[0m         arguments\u001b[39m=\u001b[39;49marguments,\n\u001b[0;32m   1926\u001b[0m         working_dir\u001b[39m=\u001b[39;49mtmp_dir,\n\u001b[0;32m   1927\u001b[0m     )\n\u001b[0;32m   1928\u001b[0m \u001b[39mexcept\u001b[39;00m \u001b[39mOSError\u001b[39;00m \u001b[39mas\u001b[39;00m e:\n",
      "File \u001b[1;32mc:\\Users\\zps19\\.conda\\envs\\pz_venv_causal\\lib\\site-packages\\pydot.py:132\u001b[0m, in \u001b[0;36mcall_graphviz\u001b[1;34m(program, arguments, working_dir, **kwargs)\u001b[0m\n\u001b[0;32m    130\u001b[0m program_with_args \u001b[39m=\u001b[39m [program, ] \u001b[39m+\u001b[39m arguments\n\u001b[1;32m--> 132\u001b[0m process \u001b[39m=\u001b[39m subprocess\u001b[39m.\u001b[39;49mPopen(\n\u001b[0;32m    133\u001b[0m     program_with_args,\n\u001b[0;32m    134\u001b[0m     env\u001b[39m=\u001b[39;49menv,\n\u001b[0;32m    135\u001b[0m     cwd\u001b[39m=\u001b[39;49mworking_dir,\n\u001b[0;32m    136\u001b[0m     shell\u001b[39m=\u001b[39;49m\u001b[39mFalse\u001b[39;49;00m,\n\u001b[0;32m    137\u001b[0m     stderr\u001b[39m=\u001b[39;49msubprocess\u001b[39m.\u001b[39;49mPIPE,\n\u001b[0;32m    138\u001b[0m     stdout\u001b[39m=\u001b[39;49msubprocess\u001b[39m.\u001b[39;49mPIPE,\n\u001b[0;32m    139\u001b[0m     \u001b[39m*\u001b[39;49m\u001b[39m*\u001b[39;49mkwargs\n\u001b[0;32m    140\u001b[0m )\n\u001b[0;32m    141\u001b[0m stdout_data, stderr_data \u001b[39m=\u001b[39m process\u001b[39m.\u001b[39mcommunicate()\n",
      "File \u001b[1;32mc:\\Users\\zps19\\.conda\\envs\\pz_venv_causal\\lib\\subprocess.py:858\u001b[0m, in \u001b[0;36mPopen.__init__\u001b[1;34m(self, args, bufsize, executable, stdin, stdout, stderr, preexec_fn, close_fds, shell, cwd, env, universal_newlines, startupinfo, creationflags, restore_signals, start_new_session, pass_fds, encoding, errors, text)\u001b[0m\n\u001b[0;32m    855\u001b[0m             \u001b[39mself\u001b[39m\u001b[39m.\u001b[39mstderr \u001b[39m=\u001b[39m io\u001b[39m.\u001b[39mTextIOWrapper(\u001b[39mself\u001b[39m\u001b[39m.\u001b[39mstderr,\n\u001b[0;32m    856\u001b[0m                     encoding\u001b[39m=\u001b[39mencoding, errors\u001b[39m=\u001b[39merrors)\n\u001b[1;32m--> 858\u001b[0m     \u001b[39mself\u001b[39;49m\u001b[39m.\u001b[39;49m_execute_child(args, executable, preexec_fn, close_fds,\n\u001b[0;32m    859\u001b[0m                         pass_fds, cwd, env,\n\u001b[0;32m    860\u001b[0m                         startupinfo, creationflags, shell,\n\u001b[0;32m    861\u001b[0m                         p2cread, p2cwrite,\n\u001b[0;32m    862\u001b[0m                         c2pread, c2pwrite,\n\u001b[0;32m    863\u001b[0m                         errread, errwrite,\n\u001b[0;32m    864\u001b[0m                         restore_signals, start_new_session)\n\u001b[0;32m    865\u001b[0m \u001b[39mexcept\u001b[39;00m:\n\u001b[0;32m    866\u001b[0m     \u001b[39m# Cleanup if the child failed starting.\u001b[39;00m\n",
      "File \u001b[1;32mc:\\Users\\zps19\\.conda\\envs\\pz_venv_causal\\lib\\subprocess.py:1327\u001b[0m, in \u001b[0;36mPopen._execute_child\u001b[1;34m(self, args, executable, preexec_fn, close_fds, pass_fds, cwd, env, startupinfo, creationflags, shell, p2cread, p2cwrite, c2pread, c2pwrite, errread, errwrite, unused_restore_signals, unused_start_new_session)\u001b[0m\n\u001b[0;32m   1326\u001b[0m \u001b[39mtry\u001b[39;00m:\n\u001b[1;32m-> 1327\u001b[0m     hp, ht, pid, tid \u001b[39m=\u001b[39m _winapi\u001b[39m.\u001b[39;49mCreateProcess(executable, args,\n\u001b[0;32m   1328\u001b[0m                              \u001b[39m# no special security\u001b[39;49;00m\n\u001b[0;32m   1329\u001b[0m                              \u001b[39mNone\u001b[39;49;00m, \u001b[39mNone\u001b[39;49;00m,\n\u001b[0;32m   1330\u001b[0m                              \u001b[39mint\u001b[39;49m(\u001b[39mnot\u001b[39;49;00m close_fds),\n\u001b[0;32m   1331\u001b[0m                              creationflags,\n\u001b[0;32m   1332\u001b[0m                              env,\n\u001b[0;32m   1333\u001b[0m                              cwd,\n\u001b[0;32m   1334\u001b[0m                              startupinfo)\n\u001b[0;32m   1335\u001b[0m \u001b[39mfinally\u001b[39;00m:\n\u001b[0;32m   1336\u001b[0m     \u001b[39m# Child is launched. Close the parent's copy of those pipe\u001b[39;00m\n\u001b[0;32m   1337\u001b[0m     \u001b[39m# handles that only the child should have open.  You need\u001b[39;00m\n\u001b[1;32m   (...)\u001b[0m\n\u001b[0;32m   1340\u001b[0m     \u001b[39m# pipe will not close when the child process exits and the\u001b[39;00m\n\u001b[0;32m   1341\u001b[0m     \u001b[39m# ReadFile will hang.\u001b[39;00m\n",
      "\u001b[1;31mFileNotFoundError\u001b[0m: [WinError 2] The system cannot find the file specified",
      "\nDuring handling of the above exception, another exception occurred:\n",
      "\u001b[1;31mFileNotFoundError\u001b[0m                         Traceback (most recent call last)",
      "\u001b[1;32md:\\VScode\\Paleoclimate_causality\\FCI_test.ipynb Cell 9\u001b[0m line \u001b[0;36m1\n\u001b[0;32m      <a href='vscode-notebook-cell:/d%3A/VScode/Paleoclimate_causality/FCI_test.ipynb#X11sZmlsZQ%3D%3D?line=8'>9</a>\u001b[0m \u001b[39m# Visualization using pydot\u001b[39;00m\n\u001b[0;32m     <a href='vscode-notebook-cell:/d%3A/VScode/Paleoclimate_causality/FCI_test.ipynb#X11sZmlsZQ%3D%3D?line=9'>10</a>\u001b[0m pdy \u001b[39m=\u001b[39m GraphUtils\u001b[39m.\u001b[39mto_pydot(g)  \u001b[39m# Convert the causal graph to pydot format\u001b[39;00m\n\u001b[1;32m---> <a href='vscode-notebook-cell:/d%3A/VScode/Paleoclimate_causality/FCI_test.ipynb#X11sZmlsZQ%3D%3D?line=10'>11</a>\u001b[0m pdy\u001b[39m.\u001b[39;49mwrite_png(\u001b[39m'\u001b[39;49m\u001b[39mcausal_graph.png\u001b[39;49m\u001b[39m'\u001b[39;49m)  \u001b[39m# Save the graph as a PNG image\u001b[39;00m\n",
      "File \u001b[1;32mc:\\Users\\zps19\\.conda\\envs\\pz_venv_causal\\lib\\site-packages\\pydot.py:1743\u001b[0m, in \u001b[0;36mDot.__init__.<locals>.new_method\u001b[1;34m(path, f, prog, encoding)\u001b[0m\n\u001b[0;32m   1739\u001b[0m \u001b[39mdef\u001b[39;00m \u001b[39mnew_method\u001b[39m(\n\u001b[0;32m   1740\u001b[0m         path, f\u001b[39m=\u001b[39mfrmt, prog\u001b[39m=\u001b[39m\u001b[39mself\u001b[39m\u001b[39m.\u001b[39mprog,\n\u001b[0;32m   1741\u001b[0m         encoding\u001b[39m=\u001b[39m\u001b[39mNone\u001b[39;00m):\n\u001b[0;32m   1742\u001b[0m \u001b[39m    \u001b[39m\u001b[39m\"\"\"Refer to docstring of method `write.`\"\"\"\u001b[39;00m\n\u001b[1;32m-> 1743\u001b[0m     \u001b[39mself\u001b[39;49m\u001b[39m.\u001b[39;49mwrite(\n\u001b[0;32m   1744\u001b[0m         path, \u001b[39mformat\u001b[39;49m\u001b[39m=\u001b[39;49mf, prog\u001b[39m=\u001b[39;49mprog,\n\u001b[0;32m   1745\u001b[0m         encoding\u001b[39m=\u001b[39;49mencoding)\n",
      "File \u001b[1;32mc:\\Users\\zps19\\.conda\\envs\\pz_venv_causal\\lib\\site-packages\\pydot.py:1828\u001b[0m, in \u001b[0;36mDot.write\u001b[1;34m(self, path, prog, format, encoding)\u001b[0m\n\u001b[0;32m   1826\u001b[0m         f\u001b[39m.\u001b[39mwrite(s)\n\u001b[0;32m   1827\u001b[0m \u001b[39melse\u001b[39;00m:\n\u001b[1;32m-> 1828\u001b[0m     s \u001b[39m=\u001b[39m \u001b[39mself\u001b[39;49m\u001b[39m.\u001b[39;49mcreate(prog, \u001b[39mformat\u001b[39;49m, encoding\u001b[39m=\u001b[39;49mencoding)\n\u001b[0;32m   1829\u001b[0m     \u001b[39mwith\u001b[39;00m io\u001b[39m.\u001b[39mopen(path, mode\u001b[39m=\u001b[39m\u001b[39m'\u001b[39m\u001b[39mwb\u001b[39m\u001b[39m'\u001b[39m) \u001b[39mas\u001b[39;00m f:\n\u001b[0;32m   1830\u001b[0m         f\u001b[39m.\u001b[39mwrite(s)\n",
      "File \u001b[1;32mc:\\Users\\zps19\\.conda\\envs\\pz_venv_causal\\lib\\site-packages\\pydot.py:1933\u001b[0m, in \u001b[0;36mDot.create\u001b[1;34m(self, prog, format, encoding)\u001b[0m\n\u001b[0;32m   1930\u001b[0m     args \u001b[39m=\u001b[39m \u001b[39mlist\u001b[39m(e\u001b[39m.\u001b[39margs)\n\u001b[0;32m   1931\u001b[0m     args[\u001b[39m1\u001b[39m] \u001b[39m=\u001b[39m \u001b[39m'\u001b[39m\u001b[39m\"\u001b[39m\u001b[39m{prog}\u001b[39;00m\u001b[39m\"\u001b[39m\u001b[39m not found in path.\u001b[39m\u001b[39m'\u001b[39m\u001b[39m.\u001b[39mformat(\n\u001b[0;32m   1932\u001b[0m         prog\u001b[39m=\u001b[39mprog)\n\u001b[1;32m-> 1933\u001b[0m     \u001b[39mraise\u001b[39;00m \u001b[39mOSError\u001b[39;00m(\u001b[39m*\u001b[39margs)\n\u001b[0;32m   1934\u001b[0m \u001b[39melse\u001b[39;00m:\n\u001b[0;32m   1935\u001b[0m     \u001b[39mraise\u001b[39;00m\n",
      "\u001b[1;31mFileNotFoundError\u001b[0m: [WinError 2] \"dot\" not found in path."
     ]
    }
   ],
   "source": [
    "from causallearn.search.ConstraintBased.FCI import fci\n",
    "from causallearn.utils.GraphUtils import GraphUtils\n",
    "\n",
    "# Assuming 'data' is your DataFrame with the synthetic data...\n",
    "\n",
    "# Perform FCI algorithm\n",
    "g, edges = fci(data.to_numpy())\n",
    "\n",
    "# Visualization using pydot\n",
    "pdy = GraphUtils.to_pydot(g)  # Convert the causal graph to pydot format\n",
    "pdy.write_png('causal_graph.png')  # Save the graph as a PNG image\n"
   ]
  },
  {
   "cell_type": "code",
   "execution_count": 7,
   "metadata": {},
   "outputs": [
    {
     "name": "stderr",
     "output_type": "stream",
     "text": [
      "No GPU automatically detected. Setting SETTINGS.GPU to 0, and SETTINGS.NJOBS to cpu_count.\n"
     ]
    },
    {
     "ename": "AttributeError",
     "evalue": "module 'cdt.independence.graph' has no attribute 'FCI'",
     "output_type": "error",
     "traceback": [
      "\u001b[1;31m---------------------------------------------------------------------------\u001b[0m",
      "\u001b[1;31mAttributeError\u001b[0m                            Traceback (most recent call last)",
      "\u001b[1;32md:\\VScode\\Paleoclimate_causality\\FCI_test.ipynb Cell 10\u001b[0m line \u001b[0;36m1\n\u001b[0;32m     <a href='vscode-notebook-cell:/d%3A/VScode/Paleoclimate_causality/FCI_test.ipynb#X12sZmlsZQ%3D%3D?line=9'>10</a>\u001b[0m data, graph \u001b[39m=\u001b[39m data_generator\u001b[39m.\u001b[39mgenerate()\n\u001b[0;32m     <a href='vscode-notebook-cell:/d%3A/VScode/Paleoclimate_causality/FCI_test.ipynb#X12sZmlsZQ%3D%3D?line=11'>12</a>\u001b[0m \u001b[39m# Initialize FCI algorithm\u001b[39;00m\n\u001b[1;32m---> <a href='vscode-notebook-cell:/d%3A/VScode/Paleoclimate_causality/FCI_test.ipynb#X12sZmlsZQ%3D%3D?line=12'>13</a>\u001b[0m fci \u001b[39m=\u001b[39m cdt\u001b[39m.\u001b[39;49mindependence\u001b[39m.\u001b[39;49mgraph\u001b[39m.\u001b[39;49mFCI()\n\u001b[0;32m     <a href='vscode-notebook-cell:/d%3A/VScode/Paleoclimate_causality/FCI_test.ipynb#X12sZmlsZQ%3D%3D?line=14'>15</a>\u001b[0m \u001b[39m# Run FCI algorithm\u001b[39;00m\n\u001b[0;32m     <a href='vscode-notebook-cell:/d%3A/VScode/Paleoclimate_causality/FCI_test.ipynb#X12sZmlsZQ%3D%3D?line=15'>16</a>\u001b[0m output_graph \u001b[39m=\u001b[39m fci\u001b[39m.\u001b[39mpredict(data)\n",
      "\u001b[1;31mAttributeError\u001b[0m: module 'cdt.independence.graph' has no attribute 'FCI'"
     ]
    }
   ],
   "source": [
    "import cdt\n",
    "from cdt.data import AcyclicGraphGenerator\n",
    "import networkx as nx\n",
    "import matplotlib.pyplot as plt\n",
    "\n",
    "# Initialize the object with parameters for the data generation\n",
    "data_generator = AcyclicGraphGenerator('linear', noise='gaussian')\n",
    "\n",
    "# Generate a random graph and data\n",
    "data, graph = data_generator.generate()\n",
    "\n",
    "# Initialize FCI algorithm\n",
    "fci = cdt.independence.graph.FCI()\n",
    "\n",
    "# Run FCI algorithm\n",
    "output_graph = fci.predict(data)\n",
    "\n",
    "# Plotting the graph\n",
    "pos = nx.spring_layout(output_graph)  # positions for all nodes\n",
    "\n",
    "# nodes\n",
    "nx.draw_networkx_nodes(output_graph, pos, node_size=700)\n",
    "\n",
    "# edges\n",
    "nx.draw_networkx_edges(output_graph, pos, width=6)\n",
    "nx.draw_networkx_edges(output_graph, pos, width=6, alpha=0.5, edge_color='b', style='dashed')\n",
    "\n",
    "# labels\n",
    "nx.draw_networkx_labels(output_graph, pos, font_size=20, font_family='sans-serif')\n",
    "\n",
    "plt.axis('off')\n",
    "plt.show()\n",
    "\n"
   ]
  }
 ],
 "metadata": {
  "kernelspec": {
   "display_name": "pz_venv_causal",
   "language": "python",
   "name": "python3"
  },
  "language_info": {
   "codemirror_mode": {
    "name": "ipython",
    "version": 3
   },
   "file_extension": ".py",
   "mimetype": "text/x-python",
   "name": "python",
   "nbconvert_exporter": "python",
   "pygments_lexer": "ipython3",
   "version": "3.8.18"
  }
 },
 "nbformat": 4,
 "nbformat_minor": 2
}
